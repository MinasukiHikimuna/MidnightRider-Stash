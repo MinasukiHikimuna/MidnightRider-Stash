{
 "cells": [
  {
   "cell_type": "markdown",
   "metadata": {},
   "source": [
    "# Sync tags to existing scenes"
   ]
  },
  {
   "cell_type": "code",
   "execution_count": null,
   "metadata": {},
   "outputs": [],
   "source": [
    "import pandas as pd\n",
    "import dotenv\n",
    "import os\n",
    "from libraries.client_stashapp import get_stashapp_client\n",
    "from libraries.StashDbClient import StashDbClient\n",
    "\n",
    "dotenv.load_dotenv()\n",
    "\n",
    "stash = get_stashapp_client()\n",
    "\n",
    "stashbox_client = StashDbClient(\n",
    "    os.getenv(\"STASHDB_ENDPOINT\"),\n",
    "    os.getenv(\"STASHDB_API_KEY\"),\n",
    ")"
   ]
  },
  {
   "cell_type": "code",
   "execution_count": null,
   "metadata": {},
   "outputs": [],
   "source": [
    "def get_scenes_with_stashdb_id():\n",
    "    scenes = stash.find_scenes(\n",
    "        {\n",
    "            \"stash_id_endpoint\": {\n",
    "                \"endpoint\": \"https://stashdb.org/graphql\",\n",
    "                \"modifier\": \"NOT_NULL\",\n",
    "            },\n",
    "            \"tags\": {\n",
    "                \"value\": [],\n",
    "                \"modifier\": \"IS_NULL\"\n",
    "            }\n",
    "        },\n",
    "        filter = {\n",
    "            \"per_page\": 1000,\n",
    "            \"page\": 2\n",
    "        }\n",
    "    )\n",
    "    return scenes\n",
    "\n",
    "scenes_with_stashdb_id = get_scenes_with_stashdb_id()\n",
    "df_scenes = pd.DataFrame(scenes_with_stashdb_id)\n"
   ]
  },
  {
   "cell_type": "code",
   "execution_count": null,
   "metadata": {},
   "outputs": [
    {
     "ename": "",
     "evalue": "",
     "output_type": "error",
     "traceback": [
      "\u001b[1;31mThe Kernel crashed while executing code in the current cell or a previous cell. \n",
      "\u001b[1;31mPlease review the code in the cell(s) to identify a possible cause of the failure. \n",
      "\u001b[1;31mClick <a href='https://aka.ms/vscodeJupyterKernelCrash'>here</a> for more info. \n",
      "\u001b[1;31mView Jupyter <a href='command:jupyter.viewOutput'>log</a> for further details."
     ]
    }
   ],
   "source": [
    "# Step 2: Extract StashDB IDs and existing tags\n",
    "df_scenes['stashdb_id'] = df_scenes['stash_ids'].apply(\n",
    "    lambda x: next((stash_id['stash_id'] for stash_id in x if stash_id['endpoint'] == 'https://stashdb.org/graphql'), None)\n",
    ")\n",
    "df_scenes['existing_tags'] = df_scenes['tags'].apply(lambda x: sorted([tag['name'] for tag in x]))\n",
    "\n",
    "# Step 3: Fetch StashDB data for each scene\n",
    "def get_stashdb_data(stashdb_id):\n",
    "    return stashbox_client.query_scenes(stashdb_id)\n",
    "\n",
    "df_scenes['stashdb_data'] = df_scenes['stashdb_id'].apply(get_stashdb_data)\n",
    "\n",
    "# Step 4: Extract tags from StashDB data\n",
    "def extract_tags(stashdb_data):\n",
    "    if stashdb_data and 'data' in stashdb_data and 'findScene' in stashdb_data['data']:\n",
    "        return sorted([tag['name'] for tag in stashdb_data['data']['findScene']['tags']])\n",
    "    return []\n",
    "\n",
    "df_scenes['stashdb_tags'] = df_scenes['stashdb_data'].apply(extract_tags)\n",
    "\n",
    "# Step 5: Merge existing tags with StashDB tags\n",
    "df_scenes['merged_tags'] = df_scenes.apply(lambda row: sorted(list(set(row['existing_tags'] + row['stashdb_tags']))), axis=1)\n",
    "\n",
    "# Step 6: Compare existing tags with merged tags\n",
    "df_scenes['tags_identical'] = df_scenes.apply(lambda row: set(row['existing_tags']) == set(row['merged_tags']), axis=1)\n",
    "\n",
    "# Step 7: Find corresponding tags in local Stash for merged tags\n",
    "def find_stash_tags(tag_names):\n",
    "    return sorted([stash.find_tag(tag_name) for tag_name in tag_names], key=lambda x: x['name'] if x else '')\n",
    "\n",
    "df_scenes['stash_tags'] = df_scenes['merged_tags'].apply(find_stash_tags)\n",
    "\n",
    "# Step 8: Select relevant columns\n",
    "df_selected = df_scenes[['id', 'title', 'details', 'date', 'existing_tags', 'stashdb_tags', 'merged_tags', 'tags_identical', 'stash_tags']]\n"
   ]
  },
  {
   "cell_type": "code",
   "execution_count": null,
   "metadata": {},
   "outputs": [],
   "source": [
    "# Update tags for scenes where tags are not identical\n",
    "for index, row in df_selected.iterrows():\n",
    "    if not row['tags_identical'] and row['stash_tags']:\n",
    "        stash.update_scene({\n",
    "            \"id\": row['id'],\n",
    "            \"tag_ids\": [tag['id'] for tag in row['stash_tags'] if tag]\n",
    "        })"
   ]
  },
  {
   "cell_type": "code",
   "execution_count": null,
   "metadata": {},
   "outputs": [],
   "source": [
    "# Read a scene from Stash by ID\n",
    "scene_id = 6775  # Replace with the actual scene ID\n",
    "scene = stash.find_scene(scene_id)\n",
    "stashdb_id = next((stash_id['stash_id'] for stash_id in scene['stash_ids'] if stash_id['endpoint'] == 'https://stashdb.org/graphql'), None)\n",
    "\n",
    "# Print scene details\n",
    "print(f\"Scene Title: {scene['title']}\")\n",
    "print(f\"Scene Date: {scene['date']}\")\n",
    "print(f\"Scene Details: {scene['details']}\")\n",
    "print(f\"StashDB ID: {stashdb_id}\")\n",
    "\n"
   ]
  },
  {
   "cell_type": "code",
   "execution_count": null,
   "metadata": {},
   "outputs": [],
   "source": [
    "scene_existing_tags = scene['tags']\n",
    "scene_existing_tags"
   ]
  },
  {
   "cell_type": "code",
   "execution_count": null,
   "metadata": {},
   "outputs": [],
   "source": [
    "stashdb_scene = stashbox_client.query_scenes(stashdb_id)\n",
    "stashdb_scene\n"
   ]
  },
  {
   "cell_type": "code",
   "execution_count": null,
   "metadata": {},
   "outputs": [],
   "source": [
    "stash_tags = []\n",
    "for tag in stashdb_scene['data']['findScene']['tags']:\n",
    "    stash_tag = stash.find_tag(tag[\"name\"])\n",
    "    stash_tags.append({ \"id\": stash_tag[\"id\"], \"name\": stash_tag[\"name\"], \"description\": stash_tag[\"description\"] })\n",
    "\n",
    "stash_tags"
   ]
  },
  {
   "cell_type": "code",
   "execution_count": null,
   "metadata": {},
   "outputs": [],
   "source": [
    "stash.update_scene({\n",
    "    \"id\": scene[\"id\"],\n",
    "    \"tag_ids\": [tag[\"id\"] for tag in stash_tags]\n",
    "})"
   ]
  }
 ],
 "metadata": {
  "kernelspec": {
   "display_name": "name_of_my_env",
   "language": "python",
   "name": "python3"
  },
  "language_info": {
   "codemirror_mode": {
    "name": "ipython",
    "version": 3
   },
   "file_extension": ".py",
   "mimetype": "text/x-python",
   "name": "python",
   "nbconvert_exporter": "python",
   "pygments_lexer": "ipython3",
   "version": "3.12.4"
  }
 },
 "nbformat": 4,
 "nbformat_minor": 2
}
