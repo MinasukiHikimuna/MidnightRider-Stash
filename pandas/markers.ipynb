{
 "cells": [
  {
   "cell_type": "code",
   "execution_count": null,
   "metadata": {},
   "outputs": [],
   "source": [
    "# Create Stash app client\n",
    "\n",
    "import pandas as pd\n",
    "import dotenv\n",
    "\n",
    "from libraries.client_stashapp import get_stashapp_client\n",
    "\n",
    "dotenv.load_dotenv()\n",
    "\n",
    "stash = get_stashapp_client()"
   ]
  },
  {
   "cell_type": "code",
   "execution_count": null,
   "metadata": {},
   "outputs": [],
   "source": [
    "tpdb_markers = stash.find_tag(\"Markers: TPDB\")\n",
    "tpdb_markers"
   ]
  },
  {
   "cell_type": "code",
   "execution_count": null,
   "metadata": {},
   "outputs": [],
   "source": [
    "ai_tagged = stash.find_tag(\"AI_Tagged\")\n",
    "ai_tagged"
   ]
  },
  {
   "cell_type": "code",
   "execution_count": null,
   "metadata": {},
   "outputs": [],
   "source": [
    "marker_source_tpdb = stash.find_tag(\"Marker Source: TPDB\")\n",
    "marker_source_tpdb"
   ]
  },
  {
   "cell_type": "code",
   "execution_count": null,
   "metadata": {},
   "outputs": [],
   "source": [
    "scenes_with_only_tpdb_markers = stash.find_scenes({\n",
    "    \"tags\": {\n",
    "        \"depth\": -1,\n",
    "        \"value\": [tpdb_markers[\"id\"]],\n",
    "        \"modifier\": \"INCLUDES_ALL\",\n",
    "        \"excludes\": [ai_tagged[\"id\"]],\n",
    "    }\n",
    "}, fragment=\"id title code details scene_markers { id title primary_tag { id name } tags { id name } }\")"
   ]
  },
  {
   "cell_type": "code",
   "execution_count": null,
   "metadata": {},
   "outputs": [],
   "source": [
    "df_scenes_with_only_tpdb_markers = pd.DataFrame(scenes_with_only_tpdb_markers)\n",
    "# Add a new column for the number of markers\n",
    "df_scenes_with_only_tpdb_markers['num_markers'] = df_scenes_with_only_tpdb_markers['scene_markers'].apply(lambda x: len(x) if isinstance(x, list) else 0)\n",
    "\n",
    "df_scenes_with_only_tpdb_markers = df_scenes_with_only_tpdb_markers[df_scenes_with_only_tpdb_markers['num_markers'] > 1]"
   ]
  },
  {
   "cell_type": "code",
   "execution_count": null,
   "metadata": {},
   "outputs": [],
   "source": [
    "for index, row in df_scenes_with_only_tpdb_markers.iterrows():\n",
    "    # Check if all scene_markers have empty tags or only contain Marker Source: TPDB tag\n",
    "    markers_empty = []\n",
    "    markers_only_tpdb = []\n",
    "    markers_invalid = []\n",
    "\n",
    "    for marker in row['scene_markers']:\n",
    "        if len(marker['tags']) == 0:\n",
    "            markers_empty.append(marker)\n",
    "        elif len(marker['tags']) == 1 and marker['tags'][0]['name'] == \"Marker Source: TPDB\":\n",
    "            markers_only_tpdb.append(marker)\n",
    "        else:\n",
    "            markers_invalid.append(marker)\n",
    "\n",
    "    all_markers_valid = len(markers_invalid) == 0\n",
    "\n",
    "    print(f\"All markers have empty tags or only Marker Source: TPDB tag: {all_markers_valid}\")\n",
    "    print(f\"Markers with empty tags: {len(markers_empty)}\")\n",
    "    print(f\"Markers with only Marker Source: TPDB tag: {len(markers_only_tpdb)}\")\n",
    "\n",
    "    if markers_invalid:\n",
    "        print(\"\\nMarkers with invalid tags:\")\n",
    "        for marker in markers_invalid:\n",
    "            print(f\"Marker ID: {marker['id']}, Title: {marker['title']}, Tags: {[tag['name'] for tag in marker['tags']]}\")\n",
    "    else:\n",
    "        print(\"\\nNo markers found with invalid tags.\")\n",
    "\n",
    "    # Update markers with empty tags to include Marker Source: TPDB tag\n",
    "    for marker in markers_empty:\n",
    "        stash.update_scene_marker({\n",
    "            \"id\": marker[\"id\"],\n",
    "            \"tag_ids\": [marker_source_tpdb[\"id\"]],\n",
    "        })\n",
    "\n",
    "    print(f\"Updated {len(markers_empty)} markers with empty tags to include Marker Source: TPDB tag.\")\n"
   ]
  },
  {
   "cell_type": "code",
   "execution_count": null,
   "metadata": {},
   "outputs": [],
   "source": [
    "for marker in scene_markers:\n",
    "    stash.update_scene_marker({\n",
    "        \"id\": marker[\"id\"],\n",
    "        \"tag_ids\": [marker_source_tpdb[\"id\"]],\n",
    "    })"
   ]
  },
  {
   "cell_type": "code",
   "execution_count": null,
   "metadata": {},
   "outputs": [],
   "source": [
    "df_scenes_with_only_tpdb_markers = pd.DataFrame(scenes_with_only_tpdb_markers)"
   ]
  }
 ],
 "metadata": {
  "kernelspec": {
   "display_name": "pandas",
   "language": "python",
   "name": "python3"
  },
  "language_info": {
   "codemirror_mode": {
    "name": "ipython",
    "version": 3
   },
   "file_extension": ".py",
   "mimetype": "text/x-python",
   "name": "python",
   "nbconvert_exporter": "python",
   "pygments_lexer": "ipython3",
   "version": "3.12.1"
  }
 },
 "nbformat": 4,
 "nbformat_minor": 2
}
