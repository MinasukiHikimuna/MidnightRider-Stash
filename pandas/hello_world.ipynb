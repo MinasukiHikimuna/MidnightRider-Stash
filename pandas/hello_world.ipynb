{
 "cells": [
  {
   "cell_type": "code",
   "execution_count": null,
   "metadata": {},
   "outputs": [],
   "source": [
    "import pandas as pd\n",
    "import dotenv\n",
    "\n",
    "from libraries.client_stashapp import get_stashapp_client\n",
    "\n",
    "dotenv.load_dotenv()\n",
    "\n",
    "stash = get_stashapp_client()"
   ]
  },
  {
   "cell_type": "code",
   "execution_count": null,
   "metadata": {},
   "outputs": [],
   "source": [
    "# Get performer data from Stash app\n",
    "performers = stash.find_performers()\n",
    "\n",
    "# Convert the list of performers to a pandas DataFrame\n",
    "df_performers = pd.DataFrame(performers)\n",
    "\n",
    "# Filter the performers\n",
    "df_females = df_performers[df_performers['gender'].isin(['FEMALE', 'TRANSGENDER_FEMALE'])].copy()\n",
    "\n",
    "# Calculations\n",
    "current_date = pd.Timestamp.now()\n",
    "df_females['birthdate'] = pd.to_datetime(df_females['birthdate'])\n",
    "df_females['age'] = df_females['birthdate'].apply(lambda x: current_date.year - x.year - ((current_date.month, current_date.day) < (x.month, x.day)))\n",
    "\n",
    "df_females['cup_size'] = df_females['measurements'].str.extract(r'(\\d+)([A-Z]+)')[1]\n",
    "\n",
    "# Only select relevant columns\n",
    "df_females = df_females[[\"id\", \"name\", \"birthdate\", \"age\", \"ethnicity\", \"country\", \"eye_color\", \"hair_color\", \"height_cm\", \"measurements\", \"cup_size\", \"fake_tits\"]]"
   ]
  }
 ],
 "metadata": {
  "language_info": {
   "name": "python"
  }
 },
 "nbformat": 4,
 "nbformat_minor": 2
}
