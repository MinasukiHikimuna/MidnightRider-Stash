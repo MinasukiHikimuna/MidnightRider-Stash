{
 "cells": [
  {
   "cell_type": "code",
   "execution_count": null,
   "metadata": {},
   "outputs": [],
   "source": [
    "import pandas as pd\n",
    "import dotenv\n",
    "\n",
    "from libraries.client_stashapp import get_stashapp_client\n",
    "\n",
    "dotenv.load_dotenv()\n",
    "\n",
    "stash = get_stashapp_client()"
   ]
  },
  {
   "cell_type": "code",
   "execution_count": null,
   "metadata": {},
   "outputs": [],
   "source": [
    "# Get performer data from Stash app\n",
    "performers = stash.find_performers()\n",
    "\n",
    "# Convert the list of performers to a pandas DataFrame\n",
    "df_performers = pd.DataFrame(performers)\n",
    "\n",
    "# Filter the performers\n",
    "df_females = df_performers[df_performers['gender'].isin(['FEMALE', 'TRANSGENDER_FEMALE'])].copy()\n",
    "\n",
    "# Calculations\n",
    "current_date = pd.Timestamp.now()\n",
    "df_females['birthdate'] = pd.to_datetime(df_females['birthdate'])\n",
    "df_females['age'] = df_females['birthdate'].apply(lambda x: current_date.year - x.year - ((current_date.month, current_date.day) < (x.month, x.day)))\n",
    "\n",
    "df_females['cup_size'] = df_females['measurements'].str.extract(r'(\\d+)([A-Z]+)')[1]\n",
    "\n",
    "# Only select relevant columns\n",
    "df_females = df_females[[\"id\", \"name\", \"birthdate\", \"age\", \"ethnicity\", \"country\", \"eye_color\", \"hair_color\", \"height_cm\", \"measurements\", \"cup_size\", \"fake_tits\", \"tags\"]]"
   ]
  },
  {
   "cell_type": "code",
   "execution_count": null,
   "metadata": {},
   "outputs": [],
   "source": [
    "df_b_cup_females = df_females[df_females[\"cup_size\"].isin([\"B\"])]\n",
    "\n",
    "b_cup_tag = stash.find_tag({ \"name\": \"B cup\" }, create=True)\n",
    "\n",
    "for index, b_cup_female in df_b_cup_females.iterrows():\n",
    "    tags = [tag[\"id\"] for tag in b_cup_female[\"tags\"]]\n",
    "    tags.append(b_cup_tag[\"id\"])\n",
    "    stash.update_performer({ \"id\": b_cup_female[\"id\"], \"tag_ids\": tags })\n",
    "    "
   ]
  }
 ],
 "metadata": {
  "kernelspec": {
   "display_name": "name_of_my_env",
   "language": "python",
   "name": "python3"
  },
  "language_info": {
   "codemirror_mode": {
    "name": "ipython",
    "version": 3
   },
   "file_extension": ".py",
   "mimetype": "text/x-python",
   "name": "python",
   "nbconvert_exporter": "python",
   "pygments_lexer": "ipython3",
   "version": "3.12.4"
  }
 },
 "nbformat": 4,
 "nbformat_minor": 2
}
