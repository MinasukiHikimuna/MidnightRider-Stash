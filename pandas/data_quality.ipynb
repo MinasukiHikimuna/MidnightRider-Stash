{
 "cells": [
  {
   "cell_type": "code",
   "execution_count": null,
   "metadata": {},
   "outputs": [],
   "source": [
    "# Create Stash app client\n",
    "\n",
    "import pandas as pd\n",
    "import dotenv\n",
    "\n",
    "from libraries.client_stashapp import get_stashapp_client\n",
    "\n",
    "dotenv.load_dotenv()\n",
    "\n",
    "stash = get_stashapp_client()"
   ]
  },
  {
   "cell_type": "code",
   "execution_count": null,
   "metadata": {},
   "outputs": [],
   "source": [
    "def create_modified_filter(data_quality_filter):\n",
    "    # Extract the tag IDs from the excluded list\n",
    "    excluded_tag_ids = [tag['id'] for tag in data_quality_filter['object_filter']['tags']['value']['excluded']]\n",
    "\n",
    "    # Create the modified filter\n",
    "    modified_filter = {\n",
    "        'tags': {\n",
    "            'modifier': 'INCLUDES_ALL',\n",
    "            'value': [],\n",
    "            'depth': -1,\n",
    "            'excludes': excluded_tag_ids,\n",
    "        }\n",
    "    }\n",
    "    return modified_filter\n",
    "\n",
    "def get_scene_count(filter):\n",
    "    result = stash.call_GQL(\"\"\"query FindScenes($scene_filter: SceneFilterType) {\n",
    "        findScenes(scene_filter: $scene_filter) {\n",
    "            count\n",
    "        }\n",
    "    }\"\"\", variables={\"scene_filter\": filter})\n",
    "    return result['findScenes']['count']"
   ]
  },
  {
   "cell_type": "code",
   "execution_count": null,
   "metadata": {},
   "outputs": [],
   "source": [
    "saved_filters = stash.call_GQL(\"\"\"query FindSavedFilters {\n",
    "    findSavedFilters {\n",
    "        id\n",
    "        mode\n",
    "        name\n",
    "        filter\n",
    "        object_filter\n",
    "        ui_options\n",
    "    }\n",
    "}\"\"\")"
   ]
  },
  {
   "cell_type": "code",
   "execution_count": null,
   "metadata": {},
   "outputs": [],
   "source": [
    "data_quality_filters = [filter for filter in saved_filters['findSavedFilters'] if 'data quality' in filter['name'].lower()]\n",
    "data_quality_filters"
   ]
  },
  {
   "cell_type": "code",
   "execution_count": null,
   "metadata": {},
   "outputs": [],
   "source": [
    "# Loop through all data quality filters and print out name and count of matching scenes\n",
    "for filter in data_quality_filters:\n",
    "    name = filter['name']\n",
    "    modified_filter = create_modified_filter(filter)\n",
    "    scene_count = get_scene_count(modified_filter)\n",
    "    print(f\"{name}: {scene_count} scenes\")\n"
   ]
  }
 ],
 "metadata": {
  "kernelspec": {
   "display_name": "name_of_my_env",
   "language": "python",
   "name": "python3"
  },
  "language_info": {
   "codemirror_mode": {
    "name": "ipython",
    "version": 3
   },
   "file_extension": ".py",
   "mimetype": "text/x-python",
   "name": "python",
   "nbconvert_exporter": "python",
   "pygments_lexer": "ipython3",
   "version": "3.12.4"
  }
 },
 "nbformat": 4,
 "nbformat_minor": 2
}
