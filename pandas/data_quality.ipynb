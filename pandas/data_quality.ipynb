{
 "cells": [
  {
   "cell_type": "code",
   "execution_count": null,
   "metadata": {},
   "outputs": [],
   "source": [
    "# Create Stash app client\n",
    "\n",
    "import pandas as pd\n",
    "import dotenv\n",
    "\n",
    "from libraries.client_stashapp import get_stashapp_client\n",
    "\n",
    "dotenv.load_dotenv()\n",
    "\n",
    "stash = get_stashapp_client()"
   ]
  },
  {
   "cell_type": "code",
   "execution_count": null,
   "metadata": {},
   "outputs": [],
   "source": [
    "# Utility functions\n",
    "def create_modified_filter(data_quality_filter):\n",
    "    depth = data_quality_filter['object_filter']['tags']['value']['depth']\n",
    "    included_tag_ids = [tag['id'] for tag in data_quality_filter['object_filter']['tags']['value']['items']]\n",
    "    excluded_tag_ids = [tag['id'] for tag in data_quality_filter['object_filter']['tags']['value']['excluded']]\n",
    "\n",
    "    # Create the modified filter\n",
    "    modified_filter = {\n",
    "        'tags': {\n",
    "            'modifier': 'INCLUDES_ALL',\n",
    "            'value': included_tag_ids,\n",
    "            'depth': depth,\n",
    "            'excludes': excluded_tag_ids,\n",
    "        }\n",
    "    }\n",
    "    return modified_filter\n",
    "\n",
    "def get_scene_count(filter):\n",
    "    result = stash.call_GQL(\"\"\"query FindScenes($scene_filter: SceneFilterType) {\n",
    "        findScenes(scene_filter: $scene_filter) {\n",
    "            count\n",
    "        }\n",
    "    }\"\"\", variables={\"scene_filter\": filter})\n",
    "    return result['findScenes']['count']"
   ]
  },
  {
   "cell_type": "code",
   "execution_count": null,
   "metadata": {},
   "outputs": [],
   "source": [
    "# Get all saved filters\n",
    "saved_filters = stash.call_GQL(\"\"\"query FindSavedFilters {\n",
    "    findSavedFilters {\n",
    "        id\n",
    "        mode\n",
    "        name\n",
    "        filter\n",
    "        object_filter\n",
    "        ui_options\n",
    "    }\n",
    "}\"\"\")"
   ]
  },
  {
   "cell_type": "code",
   "execution_count": null,
   "metadata": {},
   "outputs": [],
   "source": [
    "# Get all data quality filters\n",
    "data_quality_filters = [filter for filter in saved_filters['findSavedFilters'] if 'data quality' in filter['name'].lower()]"
   ]
  },
  {
   "cell_type": "code",
   "execution_count": null,
   "metadata": {},
   "outputs": [],
   "source": [
    "# Loop through all data quality filters and print out name and count of matching scenes\n",
    "sorted_data_quality_filters = sorted(data_quality_filters, key=lambda x: x['name'])\n",
    "for filter in sorted_data_quality_filters:\n",
    "    name = filter['name']\n",
    "    modified_filter = create_modified_filter(filter)\n",
    "    scene_count = get_scene_count(modified_filter)\n",
    "    print(f\"{name}: {scene_count} scenes\")\n"
   ]
  },
  {
   "cell_type": "markdown",
   "metadata": {},
   "source": [
    "# Additional checks for performer genders"
   ]
  },
  {
   "cell_type": "code",
   "execution_count": null,
   "metadata": {},
   "outputs": [],
   "source": [
    "included_tag_names = [\"Twosome\", \"Twosome (Straight)\"]\n",
    "included_tag_ids = [stash.find_tag(name)[\"id\"] for name in included_tag_names]\n",
    "excluded_tag_names = [\"Full Movie\"]\n",
    "excluded_tag_ids = [stash.find_tag(name)[\"id\"] for name in excluded_tag_names]\n",
    "\n",
    "twosome_bg_scenes = stash.find_scenes(\n",
    "    {\n",
    "        \"tags\": {\n",
    "            \"modifier\": \"INCLUDES_ALL\",\n",
    "            \"value\": included_tag_ids,\n",
    "            \"excludes\": excluded_tag_ids\n",
    "        }\n",
    "    },\n",
    "    # filter={\"per_page\": 100},\n",
    "    fragment=\"id title performers { id name gender }\"\n",
    ")\n",
    "\n",
    "def check_performer_genders(scene):\n",
    "    has_male = any(performer['gender'] == 'MALE' for performer in scene['performers'])\n",
    "    has_female = any(performer['gender'] == 'FEMALE' for performer in scene['performers'])\n",
    "    return not (has_male and has_female)\n",
    "\n",
    "scenes_with_incorrect_genders = [\n",
    "    scene for scene in twosome_bg_scenes\n",
    "    if len(scene['performers']) == 2 and check_performer_genders(scene)\n",
    "]\n",
    "\n",
    "print(f\"Scenes with tags {included_tag_names} with two performers but without one MALE and one FEMALE performer:\")\n",
    "for scene in scenes_with_incorrect_genders:\n",
    "    print(f\"ID: {scene['id']}, Title: {scene['title']}\")\n",
    "    print(\"Performers:\")\n",
    "    for performer in scene['performers']:\n",
    "        print(f\"  - {performer['name']} ({performer['gender']})\")\n",
    "    print()\n"
   ]
  },
  {
   "cell_type": "code",
   "execution_count": null,
   "metadata": {},
   "outputs": [],
   "source": [
    "straight_bg_tag = stash.find_tag(\"Twosome (Straight)\")\n",
    "straight_bg_tag_id = straight_bg_tag[\"id\"]\n",
    "lesbian_gg_tag = stash.find_tag(\"Twosome (Lesbian)\")\n",
    "lesbian_gg_tag_id = lesbian_gg_tag[\"id\"]\n",
    "\n",
    "for scene in scenes_with_incorrect_genders:\n",
    "    refreshed_scene = stash.find_scene(scene[\"id\"])\n",
    "    updated_tags = refreshed_scene[\"tags\"]\n",
    "    updated_tag_ids = [tag[\"id\"] for tag in updated_tags]\n",
    "    updated_tag_ids = [tag_id for tag_id in updated_tag_ids if tag_id is not None and tag_id != straight_bg_tag_id]\n",
    "    if lesbian_gg_tag_id not in updated_tag_ids:\n",
    "        updated_tag_ids.append(lesbian_gg_tag_id)\n",
    "    stash.update_scene({\n",
    "        \"id\": scene[\"id\"],\n",
    "        \"tag_ids\": updated_tag_ids\n",
    "    })\n",
    "    print(f\"Updated scene {scene['id']}: Removed 'Twosome (Straight)' tag and added 'Twosome (Lesbian)' tag\")\n"
   ]
  }
 ],
 "metadata": {
  "kernelspec": {
   "display_name": "name_of_my_env",
   "language": "python",
   "name": "python3"
  },
  "language_info": {
   "codemirror_mode": {
    "name": "ipython",
    "version": 3
   },
   "file_extension": ".py",
   "mimetype": "text/x-python",
   "name": "python",
   "nbconvert_exporter": "python",
   "pygments_lexer": "ipython3",
   "version": "3.12.4"
  }
 },
 "nbformat": 4,
 "nbformat_minor": 2
}
